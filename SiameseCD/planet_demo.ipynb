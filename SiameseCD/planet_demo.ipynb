{
 "cells": [
  {
   "cell_type": "markdown",
   "id": "b130274c-1e1d-4cf1-babd-520dbf2ce485",
   "metadata": {},
   "source": [
    "# Land Cover Change Detection in Austin, TX\n",
    "In this notebook, we'll learn how to apply a land cover change detection model to Planet imagery captured over the greater Austin area. \n",
    "We will use the following process to achieve our goal:\n",
    "   1. Initialize a Dask CUDA cluster to scale predictions on a GPU\n",
    "   2. Load and pre-process two rasters that cover the greater Austin area (one from 2017 and the other from 2022)\n",
    "   3. Apply a pre-trained PyTorch change detection model to chunks of the scene in parallel."
   ]
  },
  {
   "cell_type": "markdown",
   "id": "1712a70d-266b-468f-8156-41d997c01162",
   "metadata": {
    "tags": []
   },
   "source": [
    "## Load Packages and Initialize Dask CUDA Cluster"
   ]
  },
  {
   "cell_type": "code",
   "execution_count": 2,
   "id": "42f84244-7b34-4c6c-9523-865081f4e528",
   "metadata": {},
   "outputs": [
    {
     "name": "stderr",
     "output_type": "stream",
     "text": [
      "2022-06-09 16:11:03,199 - distributed.preloading - INFO - Import preload module: dask_cuda.initialize\n"
     ]
    },
    {
     "data": {
      "text/html": [
       "<div>\n",
       "    <div style=\"width: 24px; height: 24px; background-color: #e1e1e1; border: 3px solid #9D9D9D; border-radius: 5px; position: absolute;\"> </div>\n",
       "    <div style=\"margin-left: 48px;\">\n",
       "        <h3 style=\"margin-bottom: 0px;\">Client</h3>\n",
       "        <p style=\"color: #9D9D9D; margin-bottom: 0px;\">Client-c29dbe35-e80e-11ec-8bb4-42010a8e0002</p>\n",
       "        <table style=\"width: 100%; text-align: left;\">\n",
       "\n",
       "        <tr>\n",
       "        \n",
       "            <td style=\"text-align: left;\"><strong>Connection method:</strong> Cluster object</td>\n",
       "            <td style=\"text-align: left;\"><strong>Cluster type:</strong> dask_cuda.LocalCUDACluster</td>\n",
       "        \n",
       "        </tr>\n",
       "\n",
       "        \n",
       "            <tr>\n",
       "                <td style=\"text-align: left;\">\n",
       "                    <strong>Dashboard: </strong> <a href=\"http://127.0.0.1:8787/status\" target=\"_blank\">http://127.0.0.1:8787/status</a>\n",
       "                </td>\n",
       "                <td style=\"text-align: left;\"></td>\n",
       "            </tr>\n",
       "        \n",
       "\n",
       "        </table>\n",
       "\n",
       "        \n",
       "            <details>\n",
       "            <summary style=\"margin-bottom: 20px;\"><h3 style=\"display: inline;\">Cluster Info</h3></summary>\n",
       "            <div class=\"jp-RenderedHTMLCommon jp-RenderedHTML jp-mod-trusted jp-OutputArea-output\">\n",
       "    <div style=\"width: 24px; height: 24px; background-color: #e1e1e1; border: 3px solid #9D9D9D; border-radius: 5px; position: absolute;\">\n",
       "    </div>\n",
       "    <div style=\"margin-left: 48px;\">\n",
       "        <h3 style=\"margin-bottom: 0px; margin-top: 0px;\">LocalCUDACluster</h3>\n",
       "        <p style=\"color: #9D9D9D; margin-bottom: 0px;\">e4ceebac</p>\n",
       "        <table style=\"width: 100%; text-align: left;\">\n",
       "            <tr>\n",
       "                <td style=\"text-align: left;\">\n",
       "                    <strong>Dashboard:</strong> <a href=\"http://127.0.0.1:8787/status\" target=\"_blank\">http://127.0.0.1:8787/status</a>\n",
       "                </td>\n",
       "                <td style=\"text-align: left;\">\n",
       "                    <strong>Workers:</strong> 1\n",
       "                </td>\n",
       "            </tr>\n",
       "            <tr>\n",
       "                <td style=\"text-align: left;\">\n",
       "                    <strong>Total threads:</strong> 4\n",
       "                </td>\n",
       "                <td style=\"text-align: left;\">\n",
       "                    <strong>Total memory:</strong> 83.59 GiB\n",
       "                </td>\n",
       "            </tr>\n",
       "            \n",
       "            <tr>\n",
       "    <td style=\"text-align: left;\"><strong>Status:</strong> running</td>\n",
       "    <td style=\"text-align: left;\"><strong>Using processes:</strong> True</td>\n",
       "</tr>\n",
       "\n",
       "            \n",
       "        </table>\n",
       "\n",
       "        <details>\n",
       "            <summary style=\"margin-bottom: 20px;\">\n",
       "                <h3 style=\"display: inline;\">Scheduler Info</h3>\n",
       "            </summary>\n",
       "\n",
       "            <div style=\"\">\n",
       "    <div>\n",
       "        <div style=\"width: 24px; height: 24px; background-color: #FFF7E5; border: 3px solid #FF6132; border-radius: 5px; position: absolute;\"> </div>\n",
       "        <div style=\"margin-left: 48px;\">\n",
       "            <h3 style=\"margin-bottom: 0px;\">Scheduler</h3>\n",
       "            <p style=\"color: #9D9D9D; margin-bottom: 0px;\">Scheduler-1afc3d35-5755-4dc9-a0f2-c7208ba2dc64</p>\n",
       "            <table style=\"width: 100%; text-align: left;\">\n",
       "                <tr>\n",
       "                    <td style=\"text-align: left;\">\n",
       "                        <strong>Comm:</strong> tcp://127.0.0.1:44435\n",
       "                    </td>\n",
       "                    <td style=\"text-align: left;\">\n",
       "                        <strong>Workers:</strong> 1\n",
       "                    </td>\n",
       "                </tr>\n",
       "                <tr>\n",
       "                    <td style=\"text-align: left;\">\n",
       "                        <strong>Dashboard:</strong> <a href=\"http://127.0.0.1:8787/status\" target=\"_blank\">http://127.0.0.1:8787/status</a>\n",
       "                    </td>\n",
       "                    <td style=\"text-align: left;\">\n",
       "                        <strong>Total threads:</strong> 4\n",
       "                    </td>\n",
       "                </tr>\n",
       "                <tr>\n",
       "                    <td style=\"text-align: left;\">\n",
       "                        <strong>Started:</strong> Just now\n",
       "                    </td>\n",
       "                    <td style=\"text-align: left;\">\n",
       "                        <strong>Total memory:</strong> 83.59 GiB\n",
       "                    </td>\n",
       "                </tr>\n",
       "            </table>\n",
       "        </div>\n",
       "    </div>\n",
       "\n",
       "    <details style=\"margin-left: 48px;\">\n",
       "        <summary style=\"margin-bottom: 20px;\">\n",
       "            <h3 style=\"display: inline;\">Workers</h3>\n",
       "        </summary>\n",
       "\n",
       "        \n",
       "        <div style=\"margin-bottom: 20px;\">\n",
       "            <div style=\"width: 24px; height: 24px; background-color: #DBF5FF; border: 3px solid #4CC9FF; border-radius: 5px; position: absolute;\"> </div>\n",
       "            <div style=\"margin-left: 48px;\">\n",
       "            <details>\n",
       "                <summary>\n",
       "                    <h4 style=\"margin-bottom: 0px; display: inline;\">Worker: 0</h4>\n",
       "                </summary>\n",
       "                <table style=\"width: 100%; text-align: left;\">\n",
       "                    <tr>\n",
       "                        <td style=\"text-align: left;\">\n",
       "                            <strong>Comm: </strong> tcp://127.0.0.1:32891\n",
       "                        </td>\n",
       "                        <td style=\"text-align: left;\">\n",
       "                            <strong>Total threads: </strong> 4\n",
       "                        </td>\n",
       "                    </tr>\n",
       "                    <tr>\n",
       "                        <td style=\"text-align: left;\">\n",
       "                            <strong>Dashboard: </strong> <a href=\"http://127.0.0.1:41855/status\" target=\"_blank\">http://127.0.0.1:41855/status</a>\n",
       "                        </td>\n",
       "                        <td style=\"text-align: left;\">\n",
       "                            <strong>Memory: </strong> 83.59 GiB\n",
       "                        </td>\n",
       "                    </tr>\n",
       "                    <tr>\n",
       "                        <td style=\"text-align: left;\">\n",
       "                            <strong>Nanny: </strong> tcp://127.0.0.1:33651\n",
       "                        </td>\n",
       "                        <td style=\"text-align: left;\"></td>\n",
       "                    </tr>\n",
       "                    <tr>\n",
       "                        <td colspan=\"2\" style=\"text-align: left;\">\n",
       "                            <strong>Local directory: </strong> /home/dylan/code/planet-regrid-poc/SiameseCD/dask-worker-space/worker-zfzopret\n",
       "                        </td>\n",
       "                    </tr>\n",
       "\n",
       "                    \n",
       "                    <tr>\n",
       "                        <td style=\"text-align: left;\">\n",
       "                            <strong>GPU: </strong>NVIDIA A100-SXM4-40GB\n",
       "                        </td>\n",
       "                        <td style=\"text-align: left;\">\n",
       "                            <strong>GPU memory: </strong> 39.59 GiB\n",
       "                        </td>\n",
       "                    </tr>\n",
       "                    \n",
       "\n",
       "                    \n",
       "\n",
       "                </table>\n",
       "            </details>\n",
       "            </div>\n",
       "        </div>\n",
       "        \n",
       "\n",
       "    </details>\n",
       "</div>\n",
       "\n",
       "        </details>\n",
       "    </div>\n",
       "</div>\n",
       "            </details>\n",
       "        \n",
       "\n",
       "    </div>\n",
       "</div>"
      ],
      "text/plain": [
       "<Client: 'tcp://127.0.0.1:44435' processes=1 threads=4, memory=83.59 GiB>"
      ]
     },
     "execution_count": 2,
     "metadata": {},
     "output_type": "execute_result"
    }
   ],
   "source": [
    "import utils\n",
    "import torch\n",
    "from models.basic_model import CDEvaluator\n",
    "import os\n",
    "import numpy as np\n",
    "import pandas as pd\n",
    "from typing import TypedDict\n",
    "import xarray as xr\n",
    "import rioxarray as rxr\n",
    "import rasterio as rio\n",
    "from dask.distributed import Client\n",
    "from dask_cuda import LocalCUDACluster\n",
    "cluster = LocalCUDACluster(threads_per_worker=4)\n",
    "client = Client(cluster)\n",
    "client"
   ]
  },
  {
   "cell_type": "markdown",
   "id": "fec4dc1a-d712-4ef0-9ee3-b8766e72eecb",
   "metadata": {},
   "source": [
    "## Load pre-trained change detection model\n",
    "The following cells load the pre-trained change detection model and sends the model parameters to the GPU to hold for processing."
   ]
  },
  {
   "cell_type": "code",
   "execution_count": null,
   "id": "6bf1408e-ac1a-4b18-9e77-aefef92c3f79",
   "metadata": {},
   "outputs": [],
   "source": [
    "args = utils.get_args()\n",
    "utils.get_device(args)"
   ]
  },
  {
   "cell_type": "code",
   "execution_count": null,
   "id": "05c32e0c-1f14-4fbf-b8fd-98d28203a5da",
   "metadata": {},
   "outputs": [],
   "source": [
    "def load_model():\n",
    "    args.checkpoint_dir = os.path.join(args.checkpoint_root, args.project_name)\n",
    "    model = CDEvaluator(args)\n",
    "    model.load_checkpoint(args.checkpoint_name) \n",
    "    model.eval()\n",
    "    return model\n",
    "remote_model = client.submit(load_model)\n",
    "print(remote_model)"
   ]
  },
  {
   "cell_type": "markdown",
   "id": "6be6b0b7-7b3a-4034-88cc-30c9094d01fc",
   "metadata": {
    "tags": []
   },
   "source": [
    "## Load and pre-process Planet data\n",
    "The following cell loads two rasters, one from May 2017 and the other from May 2022, and pre-processes them so that they can be passed into the change detection model. This data contains RGB and infrared, so we first remove the infrared band. We normalize each raster by subtracting the mean and dividing by the standard deviation. This helps the model by scaling the data into a range that the model has been trained on. In case the shape of the combined rasters won't produce equally-sized chunks, we cut off the last few pixels and only keep chunks that are of compatible size for loading onto the GPU. The combined dataset, **ds_comb** (2 years, 3 bands, x, y), holds all the data we are interested in - 2 years of RGB data over the area of interest. "
   ]
  },
  {
   "cell_type": "code",
   "execution_count": null,
   "id": "872d83ac-a55e-40bf-b938-eeaf2c5fdcb3",
   "metadata": {},
   "outputs": [],
   "source": [
    "a = rio.vrt.WarpedVRT(rio.open('./catalogs/17_05/mosaic.tif'))\n",
    "b = rio.vrt.WarpedVRT(rio.open('./catalogs/22_05/mosaic.tif'),transform=a.transform,height=a.height,width=a.width)\n",
    "\n",
    "ds1 = rxr.open_rasterio(a,chunks=(4,8192,8192),lock=False)\n",
    "ds2 = rxr.open_rasterio(b,chunks=(4,8192,8192),lock=False)\n",
    "\n",
    "ds1 = ds1[:3]\n",
    "ds2 = ds2[:3]\n",
    "\n",
    "ds1 = ds1/255.0\n",
    "ds2 = ds2/255.0\n",
    "\n",
    "m1 = ds1.mean(axis=[1,2])\n",
    "s1 = ds1.std(axis=[1,2])\n",
    "m2 = ds2.mean(axis=[1,2])\n",
    "s2 = ds2.std(axis=[1,2])\n",
    "\n",
    "ds = xr.combine_nested([ds1,ds2],concat_dim=\"time\")\n",
    "\n",
    "bands = xr.DataArray([1,2,3],name=\"band\",dims=[\"band\"],coords={\"band\":[1,2,3]})\n",
    "\n",
    "first_mu = xr.DataArray(m1.data,name=\"mean\",coords=[bands])\n",
    "first_std = xr.DataArray(s1.data,name=\"std\",coords=[bands])\n",
    "second_mu = xr.DataArray(m2.data,name=\"mean\",coords=[bands])\n",
    "second_std = xr.DataArray(s2.data,name=\"std\",coords=[bands])\n",
    "\n",
    "mean = xr.concat([first_mu,second_mu],dim=\"time\")\n",
    "std = xr.concat([first_std,second_std],dim=\"time\")\n",
    "\n",
    "normalized = (ds-mean)/std\n",
    "\n",
    "slices = {}\n",
    "for coord in [\"y\",\"x\"]:\n",
    "    remainder = len(ds.coords[coord])%32\n",
    "    slice_ = slice(-remainder) if remainder else slice(None)\n",
    "    slices[coord] = slice_\n",
    "\n",
    "ds_comb = normalized.isel(**slices)\n",
    "\n",
    "ds_comb = ds_comb.chunk((2,3,8192,8192))\n",
    "ds_comb"
   ]
  },
  {
   "cell_type": "markdown",
   "id": "73eccdbe-b69c-487b-afbc-13cd7a021b83",
   "metadata": {},
   "source": [
    "## Predict geographic changes for entire scene\n",
    "Given normalized data, we can now pass this data into our pre-trained model. For each Dask chunk, we will split it into small chips and pass to the GPU for prediction. Our output is a binary mask for each chip. We stack each of these chips together to make a single mask for the entire scene, **predictions**."
   ]
  },
  {
   "cell_type": "code",
   "execution_count": null,
   "id": "fc7bb5d0-6a04-4f3d-a43b-67f7c362d127",
   "metadata": {},
   "outputs": [],
   "source": [
    "import dask.array\n",
    "from itertools import product\n",
    "def predict_chips(data,model)->torch.Tensor:\n",
    "    result = model._forward_pass(data).cpu().numpy()[0][0]\n",
    "    return result\n",
    "\n",
    "def copy_and_predict_chunked(tile,model,token=None):\n",
    "    out = np.empty(shape=tile.shape[2:], dtype=\"uint8\")\n",
    "    device = torch.device(\"cuda\")\n",
    "    w,h = out.shape\n",
    "    grid = product(range(0, h-h%256, 256), range(0, w-w%256, 256))\n",
    "    for i,j in grid:\n",
    "        A = torch.as_tensor(tile[0][np.newaxis,:,j:j+256,i:i+256])\n",
    "        B = torch.as_tensor(tile[1][np.newaxis,:,j:j+256,i:i+256])\n",
    "        gpu_chip = {'name':'test',\n",
    "                    'A':A.float().to(device),\n",
    "                    'B':B.float().to(device),\n",
    "                    'L':torch.zeros(1,1,256,256).float().to(device)\n",
    "               }\n",
    "        out[j:j+256,i:i+256] = predict_chips(gpu_chip,model)\n",
    "    return out\n",
    "\n",
    "meta = np.array([[]], dtype=\"uint8\")[:0]\n",
    "\n",
    "predictions_array = ds_comb.data.map_blocks(\n",
    "    copy_and_predict_chunked,\n",
    "    meta=meta,\n",
    "    drop_axis=[0,1],\n",
    "    model=remote_model,\n",
    "    name=\"predict\",\n",
    ")\n",
    "\n",
    "predictions = xr.DataArray(\n",
    "    predictions_array,\n",
    "    coords=ds_comb.drop_vars(\"band\").coords,\n",
    "    dims=(\"y\", \"x\"),\n",
    ")\n",
    "predictions"
   ]
  },
  {
   "cell_type": "markdown",
   "id": "6635cfe9-77c5-45e0-a195-6709b32178c5",
   "metadata": {},
   "source": [
    "## Visualize some of the results!\n",
    "The entire dataset contains ~ 140 km x 120 km of data. This takes several minutes to process. Let's check out a subset of the data before we try to run the entire scene."
   ]
  },
  {
   "cell_type": "code",
   "execution_count": null,
   "id": "a33842fd-979a-4263-9ab3-aaa5bba137b8",
   "metadata": {},
   "outputs": [],
   "source": [
    "import matplotlib.colors\n",
    "from bokeh.models.tools import BoxZoomTool\n",
    "import panel\n",
    "import hvplot.xarray\n",
    "\n",
    "def logo(plot, element):\n",
    "    plot.state.toolbar.logo = None\n",
    "\n",
    "\n",
    "zoom = BoxZoomTool(match_aspect=True)\n",
    "style_kwargs = dict(\n",
    "    width=450,\n",
    "    height=400,\n",
    "    xaxis=False,\n",
    "    yaxis=False,\n",
    ")\n",
    "kwargs = dict(\n",
    "    x=\"x\",\n",
    "    y=\"y\",\n",
    "    rasterize=True,\n",
    "    cmap='gray',\n",
    "    aggregator=\"min\",\n",
    "    colorbar=False,\n",
    "    tools=[\"pan\", zoom, \"wheel_zoom\", \"reset\"],\n",
    ")"
   ]
  },
  {
   "cell_type": "code",
   "execution_count": null,
   "id": "4b1ddb31-8a8f-4165-898a-fd130ffc4947",
   "metadata": {},
   "outputs": [],
   "source": [
    "middle = ds.shape[2] // 2, ds.shape[3] // 2\n",
    "slice_y = slice(middle[0], middle[0] + 5_000)\n",
    "slice_x = slice(middle[1], middle[1] + 5_000)\n",
    "\n",
    "parts = [x.isel(y=slice_y, x=slice_x) for x in [ds, predictions]]"
   ]
  },
  {
   "cell_type": "code",
   "execution_count": null,
   "id": "f06f7ab4-9255-4309-8f54-e22fcfcc9816",
   "metadata": {
    "tags": []
   },
   "outputs": [],
   "source": [
    "ds_local, predictions_local = dask.compute(*parts)"
   ]
  },
  {
   "cell_type": "code",
   "execution_count": null,
   "id": "ae81710b-62be-413d-bed9-7c00b6883436",
   "metadata": {},
   "outputs": [],
   "source": [
    "panel.Column(\n",
    "    panel.Row(\n",
    "        ds_local.sel(time=0)\n",
    "        .hvplot.rgb(\n",
    "            bands=\"band\", rasterize=True, hover=False, title=\"Austin 05_17\", tools=[\"pan\", zoom, \"wheel_zoom\", \"reset\"], **style_kwargs\n",
    "        )\n",
    "        .opts(default_tools=[], hooks=[logo]),\n",
    "        predictions_local\n",
    "        .hvplot.image(title=\"Changes\", **kwargs, **style_kwargs)\n",
    "        .opts(default_tools=[]),\n",
    "        ds_local.sel(time=1)\n",
    "        .hvplot.rgb(\n",
    "            bands=\"band\",\n",
    "            rasterize=True,\n",
    "            hover=False,\n",
    "            title=\"Austin 05_22\",\n",
    "            tools=[\"pan\", zoom, \"wheel_zoom\", \"reset\"],\n",
    "            **style_kwargs,\n",
    "        )\n",
    "        .opts(default_tools=[], hooks=[logo]),\n",
    "    ),\n",
    ")"
   ]
  },
  {
   "cell_type": "markdown",
   "id": "3661ec61-18e8-42f3-9692-ddbbc6d69805",
   "metadata": {},
   "source": [
    "## Analyze the change mask\n",
    "We want to analyze the areas of change, so let's *polygonize* the mask so that it's easier to deal with for further tasks. We will also find the centroid of areas with the largest contiguous changes and pass those into a pre-trained classifier to look at changes in outputs."
   ]
  },
  {
   "cell_type": "code",
   "execution_count": 5,
   "id": "2ed09127-ee58-44bb-80ad-6b26be7f7524",
   "metadata": {},
   "outputs": [],
   "source": [
    "from fastai.vision import *\n",
    "from xrspatial.experimental import polygonize as polygonize"
   ]
  },
  {
   "cell_type": "code",
   "execution_count": 22,
   "id": "49ea0a6a-32d6-42f1-b112-2e423ff2d005",
   "metadata": {},
   "outputs": [],
   "source": [
    "predictions_all = rxr.open_rasterio(\"change_map.tif\",lock=False)\n",
    "predictions_all = np.squeeze(predictions_all,axis=0)"
   ]
  },
  {
   "cell_type": "code",
   "execution_count": 23,
   "id": "491c59ef-a38b-4666-ad13-216025d08f18",
   "metadata": {},
   "outputs": [
    {
     "name": "stderr",
     "output_type": "stream",
     "text": [
      "2022-06-09 16:20:28,439 - distributed.nanny - WARNING - Restarting worker\n",
      "2022-06-09 16:20:29,780 - distributed.preloading - INFO - Import preload module: dask_cuda.initialize\n"
     ]
    },
    {
     "ename": "KeyboardInterrupt",
     "evalue": "",
     "output_type": "error",
     "traceback": [
      "\u001b[0;31m---------------------------------------------------------------------------\u001b[0m",
      "\u001b[0;31mKeyboardInterrupt\u001b[0m                         Traceback (most recent call last)",
      "Input \u001b[0;32mIn [23]\u001b[0m, in \u001b[0;36m<cell line: 2>\u001b[0;34m()\u001b[0m\n\u001b[1;32m      1\u001b[0m gdf \u001b[38;5;241m=\u001b[39m polygonize(predictions_all,connectivity\u001b[38;5;241m=\u001b[39m\u001b[38;5;241m8\u001b[39m,return_type\u001b[38;5;241m=\u001b[39m\u001b[38;5;124m\"\u001b[39m\u001b[38;5;124mgeopandas\u001b[39m\u001b[38;5;124m\"\u001b[39m)\n\u001b[0;32m----> 2\u001b[0m gdf \u001b[38;5;241m=\u001b[39m \u001b[43mgdf\u001b[49m\u001b[38;5;241;43m.\u001b[39;49m\u001b[43massign\u001b[49m\u001b[43m(\u001b[49m\u001b[43marea\u001b[49m\u001b[38;5;241;43m=\u001b[39;49m\u001b[38;5;28;43;01mlambda\u001b[39;49;00m\u001b[43m \u001b[49m\u001b[43mdf\u001b[49m\u001b[43m:\u001b[49m\u001b[43m \u001b[49m\u001b[43mdf\u001b[49m\u001b[43m[\u001b[49m\u001b[38;5;124;43m'\u001b[39;49m\u001b[38;5;124;43mgeometry\u001b[39;49m\u001b[38;5;124;43m'\u001b[39;49m\u001b[43m]\u001b[49m\u001b[38;5;241;43m.\u001b[39;49m\u001b[43marea\u001b[49m\u001b[43m,\u001b[49m\n\u001b[1;32m      3\u001b[0m \u001b[43m                \u001b[49m\u001b[43mx\u001b[49m\u001b[38;5;241;43m=\u001b[39;49m\u001b[38;5;28;43;01mlambda\u001b[39;49;00m\u001b[43m \u001b[49m\u001b[43mdf\u001b[49m\u001b[43m:\u001b[49m\u001b[43m \u001b[49m\u001b[43mdf\u001b[49m\u001b[43m[\u001b[49m\u001b[38;5;124;43m'\u001b[39;49m\u001b[38;5;124;43mgeometry\u001b[39;49m\u001b[38;5;124;43m'\u001b[39;49m\u001b[43m]\u001b[49m\u001b[38;5;241;43m.\u001b[39;49m\u001b[43mcentroid\u001b[49m\u001b[38;5;241;43m.\u001b[39;49m\u001b[43mx\u001b[49m\u001b[38;5;241;43m.\u001b[39;49m\u001b[43mastype\u001b[49m\u001b[43m(\u001b[49m\u001b[38;5;28;43mint\u001b[39;49m\u001b[43m)\u001b[49m\u001b[43m,\u001b[49m\n\u001b[1;32m      4\u001b[0m \u001b[43m                \u001b[49m\u001b[43my\u001b[49m\u001b[38;5;241;43m=\u001b[39;49m\u001b[38;5;28;43;01mlambda\u001b[39;49;00m\u001b[43m \u001b[49m\u001b[43mdf\u001b[49m\u001b[43m:\u001b[49m\u001b[43m \u001b[49m\u001b[43mdf\u001b[49m\u001b[43m[\u001b[49m\u001b[38;5;124;43m'\u001b[39;49m\u001b[38;5;124;43mgeometry\u001b[39;49m\u001b[38;5;124;43m'\u001b[39;49m\u001b[43m]\u001b[49m\u001b[38;5;241;43m.\u001b[39;49m\u001b[43mcentroid\u001b[49m\u001b[38;5;241;43m.\u001b[39;49m\u001b[43my\u001b[49m\u001b[38;5;241;43m.\u001b[39;49m\u001b[43mastype\u001b[49m\u001b[43m(\u001b[49m\u001b[38;5;28;43mint\u001b[39;49m\u001b[43m)\u001b[49m\u001b[43m,\u001b[49m\u001b[43m)\u001b[49m\u001b[38;5;241m.\u001b[39msort_values(by\u001b[38;5;241m=\u001b[39m\u001b[38;5;124m'\u001b[39m\u001b[38;5;124marea\u001b[39m\u001b[38;5;124m'\u001b[39m,ascending\u001b[38;5;241m=\u001b[39m\u001b[38;5;28;01mFalse\u001b[39;00m)\n\u001b[1;32m      5\u001b[0m gdf \u001b[38;5;241m=\u001b[39m gdf[\u001b[38;5;241m1\u001b[39m:\u001b[38;5;241m10\u001b[39m]\n",
      "File \u001b[0;32m/opt/conda/envs/planet-fastai/lib/python3.9/site-packages/pandas/core/frame.py:4512\u001b[0m, in \u001b[0;36mDataFrame.assign\u001b[0;34m(self, **kwargs)\u001b[0m\n\u001b[1;32m   4509\u001b[0m data \u001b[38;5;241m=\u001b[39m \u001b[38;5;28mself\u001b[39m\u001b[38;5;241m.\u001b[39mcopy()\n\u001b[1;32m   4511\u001b[0m \u001b[38;5;28;01mfor\u001b[39;00m k, v \u001b[38;5;129;01min\u001b[39;00m kwargs\u001b[38;5;241m.\u001b[39mitems():\n\u001b[0;32m-> 4512\u001b[0m     data[k] \u001b[38;5;241m=\u001b[39m \u001b[43mcom\u001b[49m\u001b[38;5;241;43m.\u001b[39;49m\u001b[43mapply_if_callable\u001b[49m\u001b[43m(\u001b[49m\u001b[43mv\u001b[49m\u001b[43m,\u001b[49m\u001b[43m \u001b[49m\u001b[43mdata\u001b[49m\u001b[43m)\u001b[49m\n\u001b[1;32m   4513\u001b[0m \u001b[38;5;28;01mreturn\u001b[39;00m data\n",
      "File \u001b[0;32m/opt/conda/envs/planet-fastai/lib/python3.9/site-packages/pandas/core/common.py:358\u001b[0m, in \u001b[0;36mapply_if_callable\u001b[0;34m(maybe_callable, obj, **kwargs)\u001b[0m\n\u001b[1;32m    347\u001b[0m \u001b[38;5;124;03m\"\"\"\u001b[39;00m\n\u001b[1;32m    348\u001b[0m \u001b[38;5;124;03mEvaluate possibly callable input using obj and kwargs if it is callable,\u001b[39;00m\n\u001b[1;32m    349\u001b[0m \u001b[38;5;124;03motherwise return as it is.\u001b[39;00m\n\u001b[0;32m   (...)\u001b[0m\n\u001b[1;32m    355\u001b[0m \u001b[38;5;124;03m**kwargs\u001b[39;00m\n\u001b[1;32m    356\u001b[0m \u001b[38;5;124;03m\"\"\"\u001b[39;00m\n\u001b[1;32m    357\u001b[0m \u001b[38;5;28;01mif\u001b[39;00m callable(maybe_callable):\n\u001b[0;32m--> 358\u001b[0m     \u001b[38;5;28;01mreturn\u001b[39;00m \u001b[43mmaybe_callable\u001b[49m\u001b[43m(\u001b[49m\u001b[43mobj\u001b[49m\u001b[43m,\u001b[49m\u001b[43m \u001b[49m\u001b[38;5;241;43m*\u001b[39;49m\u001b[38;5;241;43m*\u001b[39;49m\u001b[43mkwargs\u001b[49m\u001b[43m)\u001b[49m\n\u001b[1;32m    360\u001b[0m \u001b[38;5;28;01mreturn\u001b[39;00m maybe_callable\n",
      "Input \u001b[0;32mIn [23]\u001b[0m, in \u001b[0;36m<lambda>\u001b[0;34m(df)\u001b[0m\n\u001b[1;32m      1\u001b[0m gdf \u001b[38;5;241m=\u001b[39m polygonize(predictions_all,connectivity\u001b[38;5;241m=\u001b[39m\u001b[38;5;241m8\u001b[39m,return_type\u001b[38;5;241m=\u001b[39m\u001b[38;5;124m\"\u001b[39m\u001b[38;5;124mgeopandas\u001b[39m\u001b[38;5;124m\"\u001b[39m)\n\u001b[1;32m      2\u001b[0m gdf \u001b[38;5;241m=\u001b[39m gdf\u001b[38;5;241m.\u001b[39massign(area\u001b[38;5;241m=\u001b[39m\u001b[38;5;28;01mlambda\u001b[39;00m df: df[\u001b[38;5;124m'\u001b[39m\u001b[38;5;124mgeometry\u001b[39m\u001b[38;5;124m'\u001b[39m]\u001b[38;5;241m.\u001b[39marea,\n\u001b[0;32m----> 3\u001b[0m                 x\u001b[38;5;241m=\u001b[39m\u001b[38;5;28;01mlambda\u001b[39;00m df: \u001b[43mdf\u001b[49m\u001b[43m[\u001b[49m\u001b[38;5;124;43m'\u001b[39;49m\u001b[38;5;124;43mgeometry\u001b[39;49m\u001b[38;5;124;43m'\u001b[39;49m\u001b[43m]\u001b[49m\u001b[38;5;241;43m.\u001b[39;49m\u001b[43mcentroid\u001b[49m\u001b[38;5;241m.\u001b[39mx\u001b[38;5;241m.\u001b[39mastype(\u001b[38;5;28mint\u001b[39m),\n\u001b[1;32m      4\u001b[0m                 y\u001b[38;5;241m=\u001b[39m\u001b[38;5;28;01mlambda\u001b[39;00m df: df[\u001b[38;5;124m'\u001b[39m\u001b[38;5;124mgeometry\u001b[39m\u001b[38;5;124m'\u001b[39m]\u001b[38;5;241m.\u001b[39mcentroid\u001b[38;5;241m.\u001b[39my\u001b[38;5;241m.\u001b[39mastype(\u001b[38;5;28mint\u001b[39m),)\u001b[38;5;241m.\u001b[39msort_values(by\u001b[38;5;241m=\u001b[39m\u001b[38;5;124m'\u001b[39m\u001b[38;5;124marea\u001b[39m\u001b[38;5;124m'\u001b[39m,ascending\u001b[38;5;241m=\u001b[39m\u001b[38;5;28;01mFalse\u001b[39;00m)\n\u001b[1;32m      5\u001b[0m gdf \u001b[38;5;241m=\u001b[39m gdf[\u001b[38;5;241m1\u001b[39m:\u001b[38;5;241m10\u001b[39m]\n",
      "File \u001b[0;32m/opt/conda/envs/planet-fastai/lib/python3.9/site-packages/geopandas/base.py:493\u001b[0m, in \u001b[0;36mGeoPandasBase.centroid\u001b[0;34m(self)\u001b[0m\n\u001b[1;32m    459\u001b[0m \u001b[38;5;129m@property\u001b[39m\n\u001b[1;32m    460\u001b[0m \u001b[38;5;28;01mdef\u001b[39;00m \u001b[38;5;21mcentroid\u001b[39m(\u001b[38;5;28mself\u001b[39m):\n\u001b[1;32m    461\u001b[0m     \u001b[38;5;124;03m\"\"\"Returns a ``GeoSeries`` of points representing the centroid of each\u001b[39;00m\n\u001b[1;32m    462\u001b[0m \u001b[38;5;124;03m    geometry.\u001b[39;00m\n\u001b[1;32m    463\u001b[0m \n\u001b[0;32m   (...)\u001b[0m\n\u001b[1;32m    491\u001b[0m \u001b[38;5;124;03m    GeoSeries.representative_point : point guaranteed to be within each geometry\u001b[39;00m\n\u001b[1;32m    492\u001b[0m \u001b[38;5;124;03m    \"\"\"\u001b[39;00m\n\u001b[0;32m--> 493\u001b[0m     \u001b[38;5;28;01mreturn\u001b[39;00m \u001b[43m_delegate_property\u001b[49m\u001b[43m(\u001b[49m\u001b[38;5;124;43m\"\u001b[39;49m\u001b[38;5;124;43mcentroid\u001b[39;49m\u001b[38;5;124;43m\"\u001b[39;49m\u001b[43m,\u001b[49m\u001b[43m \u001b[49m\u001b[38;5;28;43mself\u001b[39;49m\u001b[43m)\u001b[49m\n",
      "File \u001b[0;32m/opt/conda/envs/planet-fastai/lib/python3.9/site-packages/geopandas/base.py:66\u001b[0m, in \u001b[0;36m_delegate_property\u001b[0;34m(op, this)\u001b[0m\n\u001b[1;32m     63\u001b[0m \u001b[38;5;28;01mdef\u001b[39;00m \u001b[38;5;21m_delegate_property\u001b[39m(op, this):\n\u001b[1;32m     64\u001b[0m     \u001b[38;5;66;03m# type: (str, GeoSeries) -> GeoSeries/Series\u001b[39;00m\n\u001b[1;32m     65\u001b[0m     a_this \u001b[38;5;241m=\u001b[39m GeometryArray(this\u001b[38;5;241m.\u001b[39mgeometry\u001b[38;5;241m.\u001b[39mvalues)\n\u001b[0;32m---> 66\u001b[0m     data \u001b[38;5;241m=\u001b[39m \u001b[38;5;28;43mgetattr\u001b[39;49m\u001b[43m(\u001b[49m\u001b[43ma_this\u001b[49m\u001b[43m,\u001b[49m\u001b[43m \u001b[49m\u001b[43mop\u001b[49m\u001b[43m)\u001b[49m\n\u001b[1;32m     67\u001b[0m     \u001b[38;5;28;01mif\u001b[39;00m \u001b[38;5;28misinstance\u001b[39m(data, GeometryArray):\n\u001b[1;32m     68\u001b[0m         \u001b[38;5;28;01mfrom\u001b[39;00m \u001b[38;5;21;01m.\u001b[39;00m\u001b[38;5;21;01mgeoseries\u001b[39;00m \u001b[38;5;28;01mimport\u001b[39;00m GeoSeries\n",
      "File \u001b[0;32m/opt/conda/envs/planet-fastai/lib/python3.9/site-packages/geopandas/array.py:487\u001b[0m, in \u001b[0;36mGeometryArray.centroid\u001b[0;34m(self)\u001b[0m\n\u001b[1;32m    484\u001b[0m \u001b[38;5;129m@property\u001b[39m\n\u001b[1;32m    485\u001b[0m \u001b[38;5;28;01mdef\u001b[39;00m \u001b[38;5;21mcentroid\u001b[39m(\u001b[38;5;28mself\u001b[39m):\n\u001b[1;32m    486\u001b[0m     \u001b[38;5;28mself\u001b[39m\u001b[38;5;241m.\u001b[39mcheck_geographic_crs(stacklevel\u001b[38;5;241m=\u001b[39m\u001b[38;5;241m5\u001b[39m)\n\u001b[0;32m--> 487\u001b[0m     \u001b[38;5;28;01mreturn\u001b[39;00m GeometryArray(\u001b[43mvectorized\u001b[49m\u001b[38;5;241;43m.\u001b[39;49m\u001b[43mcentroid\u001b[49m\u001b[43m(\u001b[49m\u001b[38;5;28;43mself\u001b[39;49m\u001b[38;5;241;43m.\u001b[39;49m\u001b[43mdata\u001b[49m\u001b[43m)\u001b[49m, crs\u001b[38;5;241m=\u001b[39m\u001b[38;5;28mself\u001b[39m\u001b[38;5;241m.\u001b[39mcrs)\n",
      "File \u001b[0;32m/opt/conda/envs/planet-fastai/lib/python3.9/site-packages/geopandas/_vectorized.py:573\u001b[0m, in \u001b[0;36mcentroid\u001b[0;34m(data)\u001b[0m\n\u001b[1;32m    571\u001b[0m     \u001b[38;5;28;01mreturn\u001b[39;00m pygeos\u001b[38;5;241m.\u001b[39mcentroid(data)\n\u001b[1;32m    572\u001b[0m \u001b[38;5;28;01melse\u001b[39;00m:\n\u001b[0;32m--> 573\u001b[0m     \u001b[38;5;28;01mreturn\u001b[39;00m \u001b[43m_unary_geo\u001b[49m\u001b[43m(\u001b[49m\u001b[38;5;124;43m\"\u001b[39;49m\u001b[38;5;124;43mcentroid\u001b[39;49m\u001b[38;5;124;43m\"\u001b[39;49m\u001b[43m,\u001b[49m\u001b[43m \u001b[49m\u001b[43mdata\u001b[49m\u001b[43m)\u001b[49m\n",
      "File \u001b[0;32m/opt/conda/envs/planet-fastai/lib/python3.9/site-packages/geopandas/_vectorized.py:558\u001b[0m, in \u001b[0;36m_unary_geo\u001b[0;34m(op, left, *args, **kwargs)\u001b[0m\n\u001b[1;32m    556\u001b[0m data \u001b[38;5;241m=\u001b[39m np\u001b[38;5;241m.\u001b[39mempty(\u001b[38;5;28mlen\u001b[39m(left), dtype\u001b[38;5;241m=\u001b[39m\u001b[38;5;28mobject\u001b[39m)\n\u001b[1;32m    557\u001b[0m \u001b[38;5;28;01mwith\u001b[39;00m compat\u001b[38;5;241m.\u001b[39mignore_shapely2_warnings():\n\u001b[0;32m--> 558\u001b[0m     data[:] \u001b[38;5;241m=\u001b[39m [\u001b[38;5;28mgetattr\u001b[39m(geom, op, \u001b[38;5;28;01mNone\u001b[39;00m) \u001b[38;5;28;01mfor\u001b[39;00m geom \u001b[38;5;129;01min\u001b[39;00m left]\n\u001b[1;32m    559\u001b[0m \u001b[38;5;28;01mreturn\u001b[39;00m data\n",
      "File \u001b[0;32m/opt/conda/envs/planet-fastai/lib/python3.9/site-packages/geopandas/_vectorized.py:558\u001b[0m, in \u001b[0;36m<listcomp>\u001b[0;34m(.0)\u001b[0m\n\u001b[1;32m    556\u001b[0m data \u001b[38;5;241m=\u001b[39m np\u001b[38;5;241m.\u001b[39mempty(\u001b[38;5;28mlen\u001b[39m(left), dtype\u001b[38;5;241m=\u001b[39m\u001b[38;5;28mobject\u001b[39m)\n\u001b[1;32m    557\u001b[0m \u001b[38;5;28;01mwith\u001b[39;00m compat\u001b[38;5;241m.\u001b[39mignore_shapely2_warnings():\n\u001b[0;32m--> 558\u001b[0m     data[:] \u001b[38;5;241m=\u001b[39m [\u001b[38;5;28;43mgetattr\u001b[39;49m\u001b[43m(\u001b[49m\u001b[43mgeom\u001b[49m\u001b[43m,\u001b[49m\u001b[43m \u001b[49m\u001b[43mop\u001b[49m\u001b[43m,\u001b[49m\u001b[43m \u001b[49m\u001b[38;5;28;43;01mNone\u001b[39;49;00m\u001b[43m)\u001b[49m \u001b[38;5;28;01mfor\u001b[39;00m geom \u001b[38;5;129;01min\u001b[39;00m left]\n\u001b[1;32m    559\u001b[0m \u001b[38;5;28;01mreturn\u001b[39;00m data\n",
      "File \u001b[0;32m/opt/conda/envs/planet-fastai/lib/python3.9/site-packages/shapely/geometry/base.py:480\u001b[0m, in \u001b[0;36mBaseGeometry.centroid\u001b[0;34m(self)\u001b[0m\n\u001b[1;32m    477\u001b[0m \u001b[38;5;129m@property\u001b[39m\n\u001b[1;32m    478\u001b[0m \u001b[38;5;28;01mdef\u001b[39;00m \u001b[38;5;21mcentroid\u001b[39m(\u001b[38;5;28mself\u001b[39m):\n\u001b[1;32m    479\u001b[0m     \u001b[38;5;124;03m\"\"\"Returns the geometric center of the object\"\"\"\u001b[39;00m\n\u001b[0;32m--> 480\u001b[0m     \u001b[38;5;28;01mreturn\u001b[39;00m \u001b[43mgeom_factory\u001b[49m\u001b[43m(\u001b[49m\u001b[38;5;28;43mself\u001b[39;49m\u001b[38;5;241;43m.\u001b[39;49m\u001b[43mimpl\u001b[49m\u001b[43m[\u001b[49m\u001b[38;5;124;43m'\u001b[39;49m\u001b[38;5;124;43mcentroid\u001b[39;49m\u001b[38;5;124;43m'\u001b[39;49m\u001b[43m]\u001b[49m\u001b[43m(\u001b[49m\u001b[38;5;28;43mself\u001b[39;49m\u001b[43m)\u001b[49m\u001b[43m)\u001b[49m\n",
      "File \u001b[0;32m/opt/conda/envs/planet-fastai/lib/python3.9/site-packages/shapely/geometry/base.py:86\u001b[0m, in \u001b[0;36mgeom_factory\u001b[0;34m(g, parent)\u001b[0m\n\u001b[1;32m     84\u001b[0m ob\u001b[38;5;241m.\u001b[39m_set_geom(g)\n\u001b[1;32m     85\u001b[0m ob\u001b[38;5;241m.\u001b[39m__p__ \u001b[38;5;241m=\u001b[39m parent\n\u001b[0;32m---> 86\u001b[0m \u001b[38;5;28;01mif\u001b[39;00m \u001b[43mlgeos\u001b[49m\u001b[38;5;241;43m.\u001b[39;49m\u001b[43mmethods\u001b[49m\u001b[43m[\u001b[49m\u001b[38;5;124;43m'\u001b[39;49m\u001b[38;5;124;43mhas_z\u001b[39;49m\u001b[38;5;124;43m'\u001b[39;49m\u001b[43m]\u001b[49m\u001b[43m(\u001b[49m\u001b[43mg\u001b[49m\u001b[43m)\u001b[49m:\n\u001b[1;32m     87\u001b[0m     ob\u001b[38;5;241m.\u001b[39m_ndim \u001b[38;5;241m=\u001b[39m \u001b[38;5;241m3\u001b[39m\n\u001b[1;32m     88\u001b[0m \u001b[38;5;28;01melse\u001b[39;00m:\n",
      "File \u001b[0;32m/opt/conda/envs/planet-fastai/lib/python3.9/site-packages/shapely/geos.py:606\u001b[0m, in \u001b[0;36merrcheck_predicate\u001b[0;34m(result, func, argtuple)\u001b[0m\n\u001b[1;32m    599\u001b[0m         \u001b[38;5;28;01mraise\u001b[39;00m TopologicalError(\n\u001b[1;32m    600\u001b[0m             \u001b[38;5;124m\"\u001b[39m\u001b[38;5;124mThe operation \u001b[39m\u001b[38;5;124m'\u001b[39m\u001b[38;5;132;01m{}\u001b[39;00m\u001b[38;5;124m'\u001b[39m\u001b[38;5;124m could not be performed.\u001b[39m\u001b[38;5;124m\"\u001b[39m\n\u001b[1;32m    601\u001b[0m             \u001b[38;5;124m\"\u001b[39m\u001b[38;5;124mLikely cause is invalidity of the geometry.\u001b[39m\u001b[38;5;124m\"\u001b[39m\u001b[38;5;241m.\u001b[39mformat(\n\u001b[1;32m    602\u001b[0m                 func\u001b[38;5;241m.\u001b[39m\u001b[38;5;18m__name__\u001b[39m))\n\u001b[1;32m    603\u001b[0m     \u001b[38;5;28;01mreturn\u001b[39;00m errcheck_just_free(result, func, argtuple)\n\u001b[0;32m--> 606\u001b[0m \u001b[38;5;28;01mdef\u001b[39;00m \u001b[38;5;21merrcheck_predicate\u001b[39m(result, func, argtuple):\n\u001b[1;32m    607\u001b[0m     \u001b[38;5;124;03m\"\"\"Result is 2 on exception, 1 on True, 0 on False\"\"\"\u001b[39;00m\n\u001b[1;32m    608\u001b[0m     \u001b[38;5;28;01mif\u001b[39;00m result \u001b[38;5;241m==\u001b[39m \u001b[38;5;241m2\u001b[39m:\n",
      "\u001b[0;31mKeyboardInterrupt\u001b[0m: "
     ]
    }
   ],
   "source": [
    "gdf = polygonize(predictions_all,connectivity=8,return_type=\"geopandas\")\n",
    "gdf = gdf.assign(area=lambda df: df['geometry'].area,\n",
    "                x=lambda df: df['geometry'].centroid.x.astype(int),\n",
    "                y=lambda df: df['geometry'].centroid.y.astype(int),).sort_values(by='area',ascending=False)\n",
    "gdf = gdf[1:10]"
   ]
  },
  {
   "cell_type": "code",
   "execution_count": null,
   "id": "f5b13641-5c9d-47d6-a365-2776c1cfa1fb",
   "metadata": {},
   "outputs": [],
   "source": [
    "learner = load_learner('../2750/')"
   ]
  },
  {
   "cell_type": "code",
   "execution_count": null,
   "id": "69c786f8-db2f-41d0-ba3c-638a9c198662",
   "metadata": {},
   "outputs": [],
   "source": [
    "ims_17 = []\n",
    "ims_22 = []\n",
    "changes = []\n",
    "for index,row in gdf.iterrows():\n",
    "    ims_17.append(ds_local[0,:3,int(round(row['centroid-0']))-128:int(round(row['centroid-0']))+128,int(round(row['centroid-1']))-128:int(round(row['centroid-1']))+128])\n",
    "    ims_22.append(ds_local[1,:3,int(round(row['centroid-0']))-128:int(round(row['centroid-0']))+128,int(round(row['centroid-1']))-128:int(round(row['centroid-1']))+128])\n",
    "    changes.append(predictions_local[int(round(row['centroid-0']))-128:int(round(row['centroid-0']))+128,int(round(row['centroid-1']))-128:int(round(row['centroid-1']))+128])"
   ]
  },
  {
   "cell_type": "code",
   "execution_count": null,
   "id": "132e5c69-9fc3-41b2-a9fd-c669f52c1747",
   "metadata": {},
   "outputs": [],
   "source": [
    "pred_17 = []\n",
    "conf_17 = []\n",
    "pred_22 = []\n",
    "conf_22 = []\n",
    "for im in range(len(images['ims_2017'])):\n",
    "    if not im%50:\n",
    "        print(f\"predicting image {im}\")\n",
    "    temp_2017 = np.resize(images['ims_2017'][im].data,(3,224,224))\n",
    "    temp_2022 = np.resize(images['ims_2022'][im].data,(3,224,224))\n",
    "    temp_2017 = Image(torch.from_numpy(temp_2017).float())\n",
    "    temp_2022 = Image(torch.from_numpy(temp_2022).float())\n",
    "    p_17 = learner.predict(temp_2017)\n",
    "    p_22 = learner.predict(temp_2022)\n",
    "    pred_17.append(p_17[1].item())\n",
    "    conf_17.append(p_17[2][p_17[1].item()].item())\n",
    "    pred_22.append(p_22[1].item())\n",
    "    conf_22.append(p_22[2][p_22[1].item()].item())"
   ]
  },
  {
   "cell_type": "markdown",
   "id": "a96bfbd7-1c57-4a8f-ba6c-e77711bcf744",
   "metadata": {},
   "source": [
    "## Store out entire mask as tif"
   ]
  },
  {
   "cell_type": "code",
   "execution_count": null,
   "id": "a18b492f-a002-4c75-9c7b-ef2ae3de4780",
   "metadata": {},
   "outputs": [],
   "source": [
    "#predictions.rio.to_raster(\"change_map.tif\")"
   ]
  },
  {
   "cell_type": "code",
   "execution_count": null,
   "id": "db49efa5-ab51-4dae-8af3-6dff560ca506",
   "metadata": {},
   "outputs": [],
   "source": []
  }
 ],
 "metadata": {
  "kernelspec": {
   "display_name": "Python [conda env:planet-fastai]",
   "language": "python",
   "name": "conda-env-planet-fastai-py"
  },
  "language_info": {
   "codemirror_mode": {
    "name": "ipython",
    "version": 3
   },
   "file_extension": ".py",
   "mimetype": "text/x-python",
   "name": "python",
   "nbconvert_exporter": "python",
   "pygments_lexer": "ipython3",
   "version": "3.9.13"
  },
  "toc-autonumbering": false,
  "toc-showcode": false,
  "toc-showmarkdowntxt": true
 },
 "nbformat": 4,
 "nbformat_minor": 5
}
